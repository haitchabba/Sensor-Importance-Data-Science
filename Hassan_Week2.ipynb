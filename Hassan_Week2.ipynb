{
 "cells": [
  {
   "cell_type": "code",
   "execution_count": 1,
   "metadata": {},
   "outputs": [],
   "source": [
    "import pandas as pd"
   ]
  },
  {
   "cell_type": "code",
   "execution_count": 3,
   "metadata": {},
   "outputs": [],
   "source": [
    "import numpy as np"
   ]
  },
  {
   "cell_type": "code",
   "execution_count": 6,
   "metadata": {},
   "outputs": [],
   "source": [
    "task_data = pd.read_csv('Data/task_data.csv', error_bad_lines = False)"
   ]
  },
  {
   "cell_type": "code",
   "execution_count": 8,
   "metadata": {},
   "outputs": [
    {
     "data": {
      "text/html": [
       "<div>\n",
       "<style scoped>\n",
       "    .dataframe tbody tr th:only-of-type {\n",
       "        vertical-align: middle;\n",
       "    }\n",
       "\n",
       "    .dataframe tbody tr th {\n",
       "        vertical-align: top;\n",
       "    }\n",
       "\n",
       "    .dataframe thead th {\n",
       "        text-align: right;\n",
       "    }\n",
       "</style>\n",
       "<table border=\"1\" class=\"dataframe\">\n",
       "  <thead>\n",
       "    <tr style=\"text-align: right;\">\n",
       "      <th></th>\n",
       "      <th>sample index</th>\n",
       "      <th>class_label</th>\n",
       "      <th>sensor0</th>\n",
       "      <th>sensor1</th>\n",
       "      <th>sensor2</th>\n",
       "      <th>sensor3</th>\n",
       "      <th>sensor4</th>\n",
       "      <th>sensor5</th>\n",
       "      <th>sensor6</th>\n",
       "      <th>sensor7</th>\n",
       "      <th>sensor8</th>\n",
       "      <th>sensor9</th>\n",
       "    </tr>\n",
       "  </thead>\n",
       "  <tbody>\n",
       "    <tr>\n",
       "      <th>0</th>\n",
       "      <td>sample0</td>\n",
       "      <td>1.0</td>\n",
       "      <td>0.834251</td>\n",
       "      <td>0.726081</td>\n",
       "      <td>0.535904</td>\n",
       "      <td>0.214896</td>\n",
       "      <td>0.873788</td>\n",
       "      <td>0.767605</td>\n",
       "      <td>0.111308</td>\n",
       "      <td>0.557526</td>\n",
       "      <td>0.599650</td>\n",
       "      <td>0.665569</td>\n",
       "    </tr>\n",
       "    <tr>\n",
       "      <th>1</th>\n",
       "      <td>sample1</td>\n",
       "      <td>1.0</td>\n",
       "      <td>0.804059</td>\n",
       "      <td>0.253135</td>\n",
       "      <td>0.869867</td>\n",
       "      <td>0.334285</td>\n",
       "      <td>0.604075</td>\n",
       "      <td>0.494045</td>\n",
       "      <td>0.833575</td>\n",
       "      <td>0.194190</td>\n",
       "      <td>0.014966</td>\n",
       "      <td>0.802918</td>\n",
       "    </tr>\n",
       "    <tr>\n",
       "      <th>2</th>\n",
       "      <td>sample2</td>\n",
       "      <td>1.0</td>\n",
       "      <td>0.694404</td>\n",
       "      <td>0.595777</td>\n",
       "      <td>0.581294</td>\n",
       "      <td>0.799003</td>\n",
       "      <td>0.762857</td>\n",
       "      <td>0.651393</td>\n",
       "      <td>0.075905</td>\n",
       "      <td>0.007186</td>\n",
       "      <td>0.659633</td>\n",
       "      <td>0.831009</td>\n",
       "    </tr>\n",
       "    <tr>\n",
       "      <th>3</th>\n",
       "      <td>sample3</td>\n",
       "      <td>1.0</td>\n",
       "      <td>0.783690</td>\n",
       "      <td>0.038780</td>\n",
       "      <td>0.285043</td>\n",
       "      <td>0.627305</td>\n",
       "      <td>0.800620</td>\n",
       "      <td>0.486340</td>\n",
       "      <td>0.827723</td>\n",
       "      <td>0.339807</td>\n",
       "      <td>0.731343</td>\n",
       "      <td>0.892359</td>\n",
       "    </tr>\n",
       "    <tr>\n",
       "      <th>4</th>\n",
       "      <td>sample4</td>\n",
       "      <td>1.0</td>\n",
       "      <td>0.788835</td>\n",
       "      <td>0.174433</td>\n",
       "      <td>0.348770</td>\n",
       "      <td>0.938244</td>\n",
       "      <td>0.692065</td>\n",
       "      <td>0.377620</td>\n",
       "      <td>0.183760</td>\n",
       "      <td>0.616805</td>\n",
       "      <td>0.492899</td>\n",
       "      <td>0.930969</td>\n",
       "    </tr>\n",
       "    <tr>\n",
       "      <th>...</th>\n",
       "      <td>...</td>\n",
       "      <td>...</td>\n",
       "      <td>...</td>\n",
       "      <td>...</td>\n",
       "      <td>...</td>\n",
       "      <td>...</td>\n",
       "      <td>...</td>\n",
       "      <td>...</td>\n",
       "      <td>...</td>\n",
       "      <td>...</td>\n",
       "      <td>...</td>\n",
       "      <td>...</td>\n",
       "    </tr>\n",
       "    <tr>\n",
       "      <th>395</th>\n",
       "      <td>sample395</td>\n",
       "      <td>-1.0</td>\n",
       "      <td>0.433150</td>\n",
       "      <td>0.816109</td>\n",
       "      <td>0.452945</td>\n",
       "      <td>0.065469</td>\n",
       "      <td>0.237093</td>\n",
       "      <td>0.719321</td>\n",
       "      <td>0.577969</td>\n",
       "      <td>0.085598</td>\n",
       "      <td>0.357115</td>\n",
       "      <td>0.070060</td>\n",
       "    </tr>\n",
       "    <tr>\n",
       "      <th>396</th>\n",
       "      <td>sample396</td>\n",
       "      <td>-1.0</td>\n",
       "      <td>0.339346</td>\n",
       "      <td>0.914610</td>\n",
       "      <td>0.097827</td>\n",
       "      <td>0.077522</td>\n",
       "      <td>0.484140</td>\n",
       "      <td>0.690568</td>\n",
       "      <td>0.420054</td>\n",
       "      <td>0.482845</td>\n",
       "      <td>0.395148</td>\n",
       "      <td>0.438641</td>\n",
       "    </tr>\n",
       "    <tr>\n",
       "      <th>397</th>\n",
       "      <td>sample397</td>\n",
       "      <td>-1.0</td>\n",
       "      <td>0.320118</td>\n",
       "      <td>0.444951</td>\n",
       "      <td>0.401896</td>\n",
       "      <td>0.970993</td>\n",
       "      <td>0.960264</td>\n",
       "      <td>0.138345</td>\n",
       "      <td>0.354927</td>\n",
       "      <td>0.230749</td>\n",
       "      <td>0.204612</td>\n",
       "      <td>0.558889</td>\n",
       "    </tr>\n",
       "    <tr>\n",
       "      <th>398</th>\n",
       "      <td>sample398</td>\n",
       "      <td>-1.0</td>\n",
       "      <td>0.059132</td>\n",
       "      <td>0.337426</td>\n",
       "      <td>0.772847</td>\n",
       "      <td>0.099038</td>\n",
       "      <td>0.966042</td>\n",
       "      <td>0.975086</td>\n",
       "      <td>0.532891</td>\n",
       "      <td>0.035839</td>\n",
       "      <td>0.258723</td>\n",
       "      <td>0.709958</td>\n",
       "    </tr>\n",
       "    <tr>\n",
       "      <th>399</th>\n",
       "      <td>sample399</td>\n",
       "      <td>-1.0</td>\n",
       "      <td>0.379778</td>\n",
       "      <td>0.460256</td>\n",
       "      <td>0.229257</td>\n",
       "      <td>0.768975</td>\n",
       "      <td>0.321882</td>\n",
       "      <td>0.118572</td>\n",
       "      <td>0.448964</td>\n",
       "      <td>0.546324</td>\n",
       "      <td>0.363127</td>\n",
       "      <td>0.176632</td>\n",
       "    </tr>\n",
       "  </tbody>\n",
       "</table>\n",
       "<p>400 rows × 12 columns</p>\n",
       "</div>"
      ],
      "text/plain": [
       "    sample index  class_label   sensor0   sensor1   sensor2   sensor3  \\\n",
       "0        sample0          1.0  0.834251  0.726081  0.535904  0.214896   \n",
       "1        sample1          1.0  0.804059  0.253135  0.869867  0.334285   \n",
       "2        sample2          1.0  0.694404  0.595777  0.581294  0.799003   \n",
       "3        sample3          1.0  0.783690  0.038780  0.285043  0.627305   \n",
       "4        sample4          1.0  0.788835  0.174433  0.348770  0.938244   \n",
       "..           ...          ...       ...       ...       ...       ...   \n",
       "395    sample395         -1.0  0.433150  0.816109  0.452945  0.065469   \n",
       "396    sample396         -1.0  0.339346  0.914610  0.097827  0.077522   \n",
       "397    sample397         -1.0  0.320118  0.444951  0.401896  0.970993   \n",
       "398    sample398         -1.0  0.059132  0.337426  0.772847  0.099038   \n",
       "399    sample399         -1.0  0.379778  0.460256  0.229257  0.768975   \n",
       "\n",
       "      sensor4   sensor5   sensor6   sensor7   sensor8   sensor9  \n",
       "0    0.873788  0.767605  0.111308  0.557526  0.599650  0.665569  \n",
       "1    0.604075  0.494045  0.833575  0.194190  0.014966  0.802918  \n",
       "2    0.762857  0.651393  0.075905  0.007186  0.659633  0.831009  \n",
       "3    0.800620  0.486340  0.827723  0.339807  0.731343  0.892359  \n",
       "4    0.692065  0.377620  0.183760  0.616805  0.492899  0.930969  \n",
       "..        ...       ...       ...       ...       ...       ...  \n",
       "395  0.237093  0.719321  0.577969  0.085598  0.357115  0.070060  \n",
       "396  0.484140  0.690568  0.420054  0.482845  0.395148  0.438641  \n",
       "397  0.960264  0.138345  0.354927  0.230749  0.204612  0.558889  \n",
       "398  0.966042  0.975086  0.532891  0.035839  0.258723  0.709958  \n",
       "399  0.321882  0.118572  0.448964  0.546324  0.363127  0.176632  \n",
       "\n",
       "[400 rows x 12 columns]"
      ]
     },
     "execution_count": 8,
     "metadata": {},
     "output_type": "execute_result"
    }
   ],
   "source": [
    "task_data"
   ]
  },
  {
   "cell_type": "code",
   "execution_count": 9,
   "metadata": {},
   "outputs": [
    {
     "data": {
      "text/html": [
       "<div>\n",
       "<style scoped>\n",
       "    .dataframe tbody tr th:only-of-type {\n",
       "        vertical-align: middle;\n",
       "    }\n",
       "\n",
       "    .dataframe tbody tr th {\n",
       "        vertical-align: top;\n",
       "    }\n",
       "\n",
       "    .dataframe thead th {\n",
       "        text-align: right;\n",
       "    }\n",
       "</style>\n",
       "<table border=\"1\" class=\"dataframe\">\n",
       "  <thead>\n",
       "    <tr style=\"text-align: right;\">\n",
       "      <th></th>\n",
       "      <th>sample index</th>\n",
       "      <th>class_label</th>\n",
       "      <th>sensor0</th>\n",
       "      <th>sensor1</th>\n",
       "      <th>sensor2</th>\n",
       "      <th>sensor3</th>\n",
       "      <th>sensor4</th>\n",
       "      <th>sensor5</th>\n",
       "      <th>sensor6</th>\n",
       "      <th>sensor7</th>\n",
       "      <th>sensor8</th>\n",
       "      <th>sensor9</th>\n",
       "    </tr>\n",
       "  </thead>\n",
       "  <tbody>\n",
       "    <tr>\n",
       "      <th>0</th>\n",
       "      <td>False</td>\n",
       "      <td>False</td>\n",
       "      <td>False</td>\n",
       "      <td>False</td>\n",
       "      <td>False</td>\n",
       "      <td>False</td>\n",
       "      <td>False</td>\n",
       "      <td>False</td>\n",
       "      <td>False</td>\n",
       "      <td>False</td>\n",
       "      <td>False</td>\n",
       "      <td>False</td>\n",
       "    </tr>\n",
       "    <tr>\n",
       "      <th>1</th>\n",
       "      <td>False</td>\n",
       "      <td>False</td>\n",
       "      <td>False</td>\n",
       "      <td>False</td>\n",
       "      <td>False</td>\n",
       "      <td>False</td>\n",
       "      <td>False</td>\n",
       "      <td>False</td>\n",
       "      <td>False</td>\n",
       "      <td>False</td>\n",
       "      <td>False</td>\n",
       "      <td>False</td>\n",
       "    </tr>\n",
       "    <tr>\n",
       "      <th>2</th>\n",
       "      <td>False</td>\n",
       "      <td>False</td>\n",
       "      <td>False</td>\n",
       "      <td>False</td>\n",
       "      <td>False</td>\n",
       "      <td>False</td>\n",
       "      <td>False</td>\n",
       "      <td>False</td>\n",
       "      <td>False</td>\n",
       "      <td>False</td>\n",
       "      <td>False</td>\n",
       "      <td>False</td>\n",
       "    </tr>\n",
       "    <tr>\n",
       "      <th>3</th>\n",
       "      <td>False</td>\n",
       "      <td>False</td>\n",
       "      <td>False</td>\n",
       "      <td>False</td>\n",
       "      <td>False</td>\n",
       "      <td>False</td>\n",
       "      <td>False</td>\n",
       "      <td>False</td>\n",
       "      <td>False</td>\n",
       "      <td>False</td>\n",
       "      <td>False</td>\n",
       "      <td>False</td>\n",
       "    </tr>\n",
       "    <tr>\n",
       "      <th>4</th>\n",
       "      <td>False</td>\n",
       "      <td>False</td>\n",
       "      <td>False</td>\n",
       "      <td>False</td>\n",
       "      <td>False</td>\n",
       "      <td>False</td>\n",
       "      <td>False</td>\n",
       "      <td>False</td>\n",
       "      <td>False</td>\n",
       "      <td>False</td>\n",
       "      <td>False</td>\n",
       "      <td>False</td>\n",
       "    </tr>\n",
       "    <tr>\n",
       "      <th>...</th>\n",
       "      <td>...</td>\n",
       "      <td>...</td>\n",
       "      <td>...</td>\n",
       "      <td>...</td>\n",
       "      <td>...</td>\n",
       "      <td>...</td>\n",
       "      <td>...</td>\n",
       "      <td>...</td>\n",
       "      <td>...</td>\n",
       "      <td>...</td>\n",
       "      <td>...</td>\n",
       "      <td>...</td>\n",
       "    </tr>\n",
       "    <tr>\n",
       "      <th>395</th>\n",
       "      <td>False</td>\n",
       "      <td>False</td>\n",
       "      <td>False</td>\n",
       "      <td>False</td>\n",
       "      <td>False</td>\n",
       "      <td>False</td>\n",
       "      <td>False</td>\n",
       "      <td>False</td>\n",
       "      <td>False</td>\n",
       "      <td>False</td>\n",
       "      <td>False</td>\n",
       "      <td>False</td>\n",
       "    </tr>\n",
       "    <tr>\n",
       "      <th>396</th>\n",
       "      <td>False</td>\n",
       "      <td>False</td>\n",
       "      <td>False</td>\n",
       "      <td>False</td>\n",
       "      <td>False</td>\n",
       "      <td>False</td>\n",
       "      <td>False</td>\n",
       "      <td>False</td>\n",
       "      <td>False</td>\n",
       "      <td>False</td>\n",
       "      <td>False</td>\n",
       "      <td>False</td>\n",
       "    </tr>\n",
       "    <tr>\n",
       "      <th>397</th>\n",
       "      <td>False</td>\n",
       "      <td>False</td>\n",
       "      <td>False</td>\n",
       "      <td>False</td>\n",
       "      <td>False</td>\n",
       "      <td>False</td>\n",
       "      <td>False</td>\n",
       "      <td>False</td>\n",
       "      <td>False</td>\n",
       "      <td>False</td>\n",
       "      <td>False</td>\n",
       "      <td>False</td>\n",
       "    </tr>\n",
       "    <tr>\n",
       "      <th>398</th>\n",
       "      <td>False</td>\n",
       "      <td>False</td>\n",
       "      <td>False</td>\n",
       "      <td>False</td>\n",
       "      <td>False</td>\n",
       "      <td>False</td>\n",
       "      <td>False</td>\n",
       "      <td>False</td>\n",
       "      <td>False</td>\n",
       "      <td>False</td>\n",
       "      <td>False</td>\n",
       "      <td>False</td>\n",
       "    </tr>\n",
       "    <tr>\n",
       "      <th>399</th>\n",
       "      <td>False</td>\n",
       "      <td>False</td>\n",
       "      <td>False</td>\n",
       "      <td>False</td>\n",
       "      <td>False</td>\n",
       "      <td>False</td>\n",
       "      <td>False</td>\n",
       "      <td>False</td>\n",
       "      <td>False</td>\n",
       "      <td>False</td>\n",
       "      <td>False</td>\n",
       "      <td>False</td>\n",
       "    </tr>\n",
       "  </tbody>\n",
       "</table>\n",
       "<p>400 rows × 12 columns</p>\n",
       "</div>"
      ],
      "text/plain": [
       "     sample index  class_label  sensor0  sensor1  sensor2  sensor3  sensor4  \\\n",
       "0           False        False    False    False    False    False    False   \n",
       "1           False        False    False    False    False    False    False   \n",
       "2           False        False    False    False    False    False    False   \n",
       "3           False        False    False    False    False    False    False   \n",
       "4           False        False    False    False    False    False    False   \n",
       "..            ...          ...      ...      ...      ...      ...      ...   \n",
       "395         False        False    False    False    False    False    False   \n",
       "396         False        False    False    False    False    False    False   \n",
       "397         False        False    False    False    False    False    False   \n",
       "398         False        False    False    False    False    False    False   \n",
       "399         False        False    False    False    False    False    False   \n",
       "\n",
       "     sensor5  sensor6  sensor7  sensor8  sensor9  \n",
       "0      False    False    False    False    False  \n",
       "1      False    False    False    False    False  \n",
       "2      False    False    False    False    False  \n",
       "3      False    False    False    False    False  \n",
       "4      False    False    False    False    False  \n",
       "..       ...      ...      ...      ...      ...  \n",
       "395    False    False    False    False    False  \n",
       "396    False    False    False    False    False  \n",
       "397    False    False    False    False    False  \n",
       "398    False    False    False    False    False  \n",
       "399    False    False    False    False    False  \n",
       "\n",
       "[400 rows x 12 columns]"
      ]
     },
     "execution_count": 9,
     "metadata": {},
     "output_type": "execute_result"
    }
   ],
   "source": [
    "task_data.isnull()"
   ]
  },
  {
   "cell_type": "code",
   "execution_count": 12,
   "metadata": {},
   "outputs": [
    {
     "name": "stdout",
     "output_type": "stream",
     "text": [
      "<class 'pandas.core.frame.DataFrame'>\n",
      "RangeIndex: 400 entries, 0 to 399\n",
      "Data columns (total 12 columns):\n",
      " #   Column        Non-Null Count  Dtype  \n",
      "---  ------        --------------  -----  \n",
      " 0   sample index  400 non-null    object \n",
      " 1   class_label   400 non-null    float64\n",
      " 2   sensor0       400 non-null    float64\n",
      " 3   sensor1       400 non-null    float64\n",
      " 4   sensor2       400 non-null    float64\n",
      " 5   sensor3       400 non-null    float64\n",
      " 6   sensor4       400 non-null    float64\n",
      " 7   sensor5       400 non-null    float64\n",
      " 8   sensor6       400 non-null    float64\n",
      " 9   sensor7       400 non-null    float64\n",
      " 10  sensor8       400 non-null    float64\n",
      " 11  sensor9       400 non-null    float64\n",
      "dtypes: float64(11), object(1)\n",
      "memory usage: 37.6+ KB\n"
     ]
    }
   ],
   "source": [
    "task_data.info()"
   ]
  },
  {
   "cell_type": "code",
   "execution_count": 13,
   "metadata": {},
   "outputs": [
    {
     "data": {
      "text/plain": [
       "sample index    0\n",
       "class_label     0\n",
       "sensor0         0\n",
       "sensor1         0\n",
       "sensor2         0\n",
       "sensor3         0\n",
       "sensor4         0\n",
       "sensor5         0\n",
       "sensor6         0\n",
       "sensor7         0\n",
       "sensor8         0\n",
       "sensor9         0\n",
       "dtype: int64"
      ]
     },
     "execution_count": 13,
     "metadata": {},
     "output_type": "execute_result"
    }
   ],
   "source": [
    "task_data.isna().sum()"
   ]
  },
  {
   "cell_type": "code",
   "execution_count": 14,
   "metadata": {},
   "outputs": [
    {
     "data": {
      "text/plain": [
       "(400, 12)"
      ]
     },
     "execution_count": 14,
     "metadata": {},
     "output_type": "execute_result"
    }
   ],
   "source": [
    "task_data.shape"
   ]
  },
  {
   "cell_type": "code",
   "execution_count": 19,
   "metadata": {},
   "outputs": [
    {
     "data": {
      "text/plain": [
       "<matplotlib.axes._subplots.AxesSubplot at 0x22650ec0dc8>"
      ]
     },
     "execution_count": 19,
     "metadata": {},
     "output_type": "execute_result"
    },
    {
     "data": {
      "image/png": "[encoded data removed]",
      "text/plain": [
       "<Figure size 432x288 with 2 Axes>"
      ]
     },
     "metadata": {
      "needs_background": "light"
     },
     "output_type": "display_data"
    }
   ],
   "source": [
    "import seaborn as sns\n",
    "corr = task_data.corr()\n",
    "sns.heatmap(corr, annot=True, annot_kws={\"size\": 7})"
   ]
  },
  {
   "cell_type": "code",
   "execution_count": 21,
   "metadata": {},
   "outputs": [],
   "source": [
    "#Separate your Features as X\n",
    "X = task_data.loc[:, ['sensor0', 'sensor1', 'sensor2', 'sensor3', 'sensor4', 'sensor5', 'sensor6',\n",
    "                      'sensor7', 'sensor8', 'sensor9']]\n",
    "\n",
    "#Separate your Label as y\n",
    "y = task_data.loc[:, ['class_label']]"
   ]
  },
  {
   "cell_type": "code",
   "execution_count": 22,
   "metadata": {},
   "outputs": [],
   "source": [
    "from sklearn.model_selection import train_test_split\n",
    "# 80% training and 20% test\n",
    "X_train, X_test, y_train, y_test = train_test_split(X, y, test_size=0.2) "
   ]
  },
  {
   "cell_type": "code",
   "execution_count": 24,
   "metadata": {},
   "outputs": [],
   "source": [
    "from sklearn.ensemble import RandomForestClassifier\n",
    "\n",
    "#Create a Gaussian Classifier\n",
    "obj_rand = RandomForestClassifier(n_estimators=100)\n",
    "\n",
    "#Train the model using the training sets y_pred=clf.predict(X_test)\n",
    "obj_rand.fit(X_train, y_train.values.ravel())\n",
    "\n",
    "y_pred = obj_rand.predict(X_test)"
   ]
  },
  {
   "cell_type": "code",
   "execution_count": 25,
   "metadata": {},
   "outputs": [
    {
     "data": {
      "text/plain": [
       "array([ 1., -1.,  1.,  1.,  1., -1., -1., -1., -1., -1.,  1.,  1.,  1.,\n",
       "        1.,  1., -1.,  1.,  1., -1.,  1.,  1., -1.,  1.,  1., -1.,  1.,\n",
       "       -1.,  1., -1.,  1.,  1., -1.,  1.,  1., -1., -1.,  1.,  1.,  1.,\n",
       "       -1., -1.,  1.,  1.,  1.,  1.,  1.,  1.,  1., -1., -1., -1., -1.,\n",
       "        1., -1.,  1.,  1., -1.,  1.,  1., -1., -1.,  1.,  1.,  1.,  1.,\n",
       "       -1.,  1.,  1.,  1.,  1., -1.,  1.,  1.,  1., -1., -1., -1., -1.,\n",
       "        1.,  1.])"
      ]
     },
     "execution_count": 25,
     "metadata": {},
     "output_type": "execute_result"
    }
   ],
   "source": [
    "y_pred"
   ]
  },
  {
   "cell_type": "code",
   "execution_count": 30,
   "metadata": {},
   "outputs": [
    {
     "name": "stdout",
     "output_type": "stream",
     "text": [
      "Accuracy: 0.9875\n"
     ]
    }
   ],
   "source": [
    "#Check Accuracy\n",
    "from sklearn import metrics\n",
    "\n",
    "print(\"Accuracy:\", metrics.accuracy_score(y_test, y_pred))\n"
   ]
  },
  {
   "cell_type": "code",
   "execution_count": 52,
   "metadata": {},
   "outputs": [
    {
     "data": {
      "text/plain": [
       "['sensor0',\n",
       " 'sensor1',\n",
       " 'sensor2',\n",
       " 'sensor3',\n",
       " 'sensor4',\n",
       " 'sensor5',\n",
       " 'sensor6',\n",
       " 'sensor7',\n",
       " 'sensor8',\n",
       " 'sensor9']"
      ]
     },
     "execution_count": 52,
     "metadata": {},
     "output_type": "execute_result"
    }
   ],
   "source": [
    "obj_rand.predict([[0.2, 0.2, 0.2, 0.2, 0.2, 0.2, 0.2, 0.2, 0.2, 0.2]])\n",
    "feature_names = ['sensor0', 'sensor1', 'sensor2', 'sensor3', 'sensor4', 'sensor5', 'sensor6',\n",
    "                      'sensor7', 'sensor8', 'sensor9']\n",
    "feature_names"
   ]
  },
  {
   "cell_type": "code",
   "execution_count": 59,
   "metadata": {},
   "outputs": [
    {
     "data": {
      "text/plain": [
       "sensor8    0.295711\n",
       "sensor6    0.244617\n",
       "sensor4    0.179192\n",
       "sensor0    0.094824\n",
       "sensor1    0.047073\n",
       "sensor3    0.042111\n",
       "sensor2    0.040314\n",
       "sensor9    0.019969\n",
       "sensor5    0.019593\n",
       "sensor7    0.016597\n",
       "dtype: float64"
      ]
     },
     "execution_count": 59,
     "metadata": {},
     "output_type": "execute_result"
    }
   ],
   "source": [
    "importance = pd.Series(obj_rand.feature_importances_, index=feature_names).sort_values(ascending=False)\n",
    "importance"
   ]
  },
  {
   "cell_type": "code",
   "execution_count": 49,
   "metadata": {},
   "outputs": [
    {
     "data": {
      "image/png": "[encoded data removed]",
      "text/plain": [
       "<Figure size 432x288 with 1 Axes>"
      ]
     },
     "metadata": {
      "needs_background": "light"
     },
     "output_type": "display_data"
    }
   ],
   "source": [
    "from matplotlib import pyplot\n",
    "pyplot.bar([x for x in range(len(importance))], importance)\n",
    "pyplot.show()"
   ]
  },
  {
   "cell_type": "code",
   "execution_count": 57,
   "metadata": {},
   "outputs": [
    {
     "data": {
      "image/png": "[encoded data removed]",
      "text/plain": [
       "<Figure size 432x288 with 1 Axes>"
      ]
     },
     "metadata": {
      "needs_background": "light"
     },
     "output_type": "display_data"
    }
   ],
   "source": [
    "%matplotlib inline\n",
    "# Creating a bar plot\n",
    "sns.barplot(x = importance, y = importance.index)\n",
    "# Add labels to your graph\n",
    "pyplot.xlabel('Feature Importance Score')\n",
    "pyplot.ylabel('Features')\n",
    "pyplot.title(\"Visualizing Important Features\")\n",
    "pyplot.show()"
   ]
  },
  {
   "cell_type": "code",
   "execution_count": null,
   "metadata": {},
   "outputs": [],
   "source": []
  }
 ],
 "metadata": {
  "kernelspec": {
   "display_name": "Python 3",
   "language": "python",
   "name": "python3"
  },
  "language_info": {
   "codemirror_mode": {
    "name": "ipython",
    "version": 3
   },
   "file_extension": ".py",
   "mimetype": "text/x-python",
   "name": "python",
   "nbconvert_exporter": "python",
   "pygments_lexer": "ipython3",
   "version": "3.7.6"
  }
 },
 "nbformat": 4,
 "nbformat_minor": 4
}
